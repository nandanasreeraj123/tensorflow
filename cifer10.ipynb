{
  "nbformat": 4,
  "nbformat_minor": 0,
  "metadata": {
    "colab": {
      "name": "Untitled0.ipynb",
      "provenance": []
    },
    "kernelspec": {
      "name": "python3",
      "display_name": "Python 3"
    },
    "accelerator": "GPU"
  },
  "cells": [
    {
      "cell_type": "code",
      "metadata": {
        "id": "ZswRulF_Fvpa",
        "colab_type": "code",
        "colab": {
          "base_uri": "https://localhost:8080/",
          "height": 35
        },
        "outputId": "758a988d-2f12-4081-d0e6-47fdefe8f2ff"
      },
      "source": [
        "\n",
        "import tensorflow as tf\n",
        "import matplotlib.pyplot as plt\n",
        "\n",
        "from tensorflow.keras.datasets import cifar10\n",
        "\n",
        "%matplotlib inline\n",
        "tf.__version__"
      ],
      "execution_count": 71,
      "outputs": [
        {
          "output_type": "execute_result",
          "data": {
            "application/vnd.google.colaboratory.intrinsic+json": {
              "type": "string"
            },
            "text/plain": [
              "'2.3.0'"
            ]
          },
          "metadata": {
            "tags": []
          },
          "execution_count": 71
        }
      ]
    },
    {
      "cell_type": "code",
      "metadata": {
        "id": "bsbeT0gUG2--",
        "colab_type": "code",
        "colab": {}
      },
      "source": [
        "class_names = ['airplane', 'automobile','bird','cat','deer','dog','frog', 'horse', 'ship', 'truck']"
      ],
      "execution_count": 72,
      "outputs": []
    },
    {
      "cell_type": "code",
      "metadata": {
        "id": "BolIZHzcHsZq",
        "colab_type": "code",
        "colab": {}
      },
      "source": [
        "(X_train, y_train),(X_test, y_test) = cifar10.load_data()"
      ],
      "execution_count": 73,
      "outputs": []
    },
    {
      "cell_type": "code",
      "metadata": {
        "id": "8sexZIvIH-tW",
        "colab_type": "code",
        "colab": {}
      },
      "source": [
        "X_train = X_train/255.0\n",
        "X_test = X_test/255.0"
      ],
      "execution_count": 74,
      "outputs": []
    },
    {
      "cell_type": "code",
      "metadata": {
        "id": "TD4rbsS0IROs",
        "colab_type": "code",
        "colab": {
          "base_uri": "https://localhost:8080/",
          "height": 34
        },
        "outputId": "e8fe6fe1-41cd-43a4-8168-7d88664a43fd"
      },
      "source": [
        "X_test.shape"
      ],
      "execution_count": 75,
      "outputs": [
        {
          "output_type": "execute_result",
          "data": {
            "text/plain": [
              "(10000, 32, 32, 3)"
            ]
          },
          "metadata": {
            "tags": []
          },
          "execution_count": 75
        }
      ]
    },
    {
      "cell_type": "code",
      "metadata": {
        "id": "HZdnV_LGIWzN",
        "colab_type": "code",
        "colab": {
          "base_uri": "https://localhost:8080/",
          "height": 283
        },
        "outputId": "a1a09d53-692a-4b88-9d37-b61027912dc4"
      },
      "source": [
        "plt.imshow(X_train[5])"
      ],
      "execution_count": 76,
      "outputs": [
        {
          "output_type": "execute_result",
          "data": {
            "text/plain": [
              "<matplotlib.image.AxesImage at 0x7f41fb39dda0>"
            ]
          },
          "metadata": {
            "tags": []
          },
          "execution_count": 76
        },
        {
          "output_type": "display_data",
          "data": {
            "image/png": "[encoded data removed]",
            "text/plain": [
              "<Figure size 432x288 with 1 Axes>"
            ]
          },
          "metadata": {
            "tags": [],
            "needs_background": "light"
          }
        }
      ]
    },
    {
      "cell_type": "code",
      "metadata": {
        "id": "YAQ17eKuI14r",
        "colab_type": "code",
        "colab": {}
      },
      "source": [
        "model = tf.keras.models.Sequential()"
      ],
      "execution_count": 77,
      "outputs": []
    },
    {
      "cell_type": "code",
      "metadata": {
        "id": "gtEUI6oGI_Dy",
        "colab_type": "code",
        "colab": {}
      },
      "source": [
        "model.add(tf.keras.layers.Conv2D(filters=32, kernel_size=3, padding='valid', activation='relu',input_shape=[32,32,3]))"
      ],
      "execution_count": 78,
      "outputs": []
    },
    {
      "cell_type": "code",
      "metadata": {
        "id": "bcF1QtTmJ3db",
        "colab_type": "code",
        "colab": {}
      },
      "source": [
        "model.add(tf.keras.layers.MaxPool2D(pool_size=2,strides=2,padding='valid'))"
      ],
      "execution_count": 79,
      "outputs": []
    },
    {
      "cell_type": "code",
      "metadata": {
        "id": "XdKUVL_nKUnb",
        "colab_type": "code",
        "colab": {}
      },
      "source": [
        "model.add(tf.keras.layers.Conv2D(filters=32, kernel_size=3, padding='valid', activation='relu'))"
      ],
      "execution_count": 80,
      "outputs": []
    },
    {
      "cell_type": "code",
      "metadata": {
        "id": "DO-zSWtJKbaA",
        "colab_type": "code",
        "colab": {}
      },
      "source": [
        "model.add(tf.keras.layers.MaxPool2D(pool_size=2,strides=2,padding='valid'))"
      ],
      "execution_count": 81,
      "outputs": []
    },
    {
      "cell_type": "code",
      "metadata": {
        "id": "Gqp36GXYKeKZ",
        "colab_type": "code",
        "colab": {}
      },
      "source": [
        "model.add(tf.keras.layers.Conv2D(filters=32, kernel_size=3, padding='valid', activation='relu'))"
      ],
      "execution_count": 82,
      "outputs": []
    },
    {
      "cell_type": "code",
      "metadata": {
        "id": "Sou6IZ2GKh17",
        "colab_type": "code",
        "colab": {}
      },
      "source": [
        "model.add(tf.keras.layers.MaxPool2D(pool_size=2,strides=2,padding='valid'))"
      ],
      "execution_count": 83,
      "outputs": []
    },
    {
      "cell_type": "code",
      "metadata": {
        "id": "GP_lCCxSKuNX",
        "colab_type": "code",
        "colab": {}
      },
      "source": [
        "model.add(tf.keras.layers.Flatten())"
      ],
      "execution_count": 84,
      "outputs": []
    },
    {
      "cell_type": "code",
      "metadata": {
        "id": "xulD1UjtLLX_",
        "colab_type": "code",
        "colab": {}
      },
      "source": [
        "model.add(tf.keras.layers.Dense(units=128,activation='relu'))"
      ],
      "execution_count": 85,
      "outputs": []
    },
    {
      "cell_type": "code",
      "metadata": {
        "id": "eiq4Rso_Lagm",
        "colab_type": "code",
        "colab": {}
      },
      "source": [
        "model.add(tf.keras.layers.Dropout(0.2))"
      ],
      "execution_count": 86,
      "outputs": []
    },
    {
      "cell_type": "code",
      "metadata": {
        "id": "ACkA11BSLhAb",
        "colab_type": "code",
        "colab": {}
      },
      "source": [
        "model.add(tf.keras.layers.Dense(units=128,activation='relu'))"
      ],
      "execution_count": 87,
      "outputs": []
    },
    {
      "cell_type": "code",
      "metadata": {
        "id": "jdXJO-aDLi5g",
        "colab_type": "code",
        "colab": {}
      },
      "source": [
        "model.add(tf.keras.layers.Dropout(0.2))"
      ],
      "execution_count": 88,
      "outputs": []
    },
    {
      "cell_type": "code",
      "metadata": {
        "id": "OJSG7LwuLlHy",
        "colab_type": "code",
        "colab": {}
      },
      "source": [
        "model.add(tf.keras.layers.Dense(units=10,activation='softmax'))"
      ],
      "execution_count": 89,
      "outputs": []
    },
    {
      "cell_type": "code",
      "metadata": {
        "id": "rhj4O3AKLx1l",
        "colab_type": "code",
        "colab": {
          "base_uri": "https://localhost:8080/",
          "height": 554
        },
        "outputId": "3d751381-9ee2-4d7f-c4a0-0c5a78eaa2a3"
      },
      "source": [
        "model.summary()"
      ],
      "execution_count": 90,
      "outputs": [
        {
          "output_type": "stream",
          "text": [
            "Model: \"sequential_3\"\n",
            "_________________________________________________________________\n",
            "Layer (type)                 Output Shape              Param #   \n",
            "=================================================================\n",
            "conv2d_9 (Conv2D)            (None, 30, 30, 32)        896       \n",
            "_________________________________________________________________\n",
            "max_pooling2d_8 (MaxPooling2 (None, 15, 15, 32)        0         \n",
            "_________________________________________________________________\n",
            "conv2d_10 (Conv2D)           (None, 13, 13, 32)        9248      \n",
            "_________________________________________________________________\n",
            "max_pooling2d_9 (MaxPooling2 (None, 6, 6, 32)          0         \n",
            "_________________________________________________________________\n",
            "conv2d_11 (Conv2D)           (None, 4, 4, 32)          9248      \n",
            "_________________________________________________________________\n",
            "max_pooling2d_10 (MaxPooling (None, 2, 2, 32)          0         \n",
            "_________________________________________________________________\n",
            "flatten_3 (Flatten)          (None, 128)               0         \n",
            "_________________________________________________________________\n",
            "dense_9 (Dense)              (None, 128)               16512     \n",
            "_________________________________________________________________\n",
            "dropout_6 (Dropout)          (None, 128)               0         \n",
            "_________________________________________________________________\n",
            "dense_10 (Dense)             (None, 128)               16512     \n",
            "_________________________________________________________________\n",
            "dropout_7 (Dropout)          (None, 128)               0         \n",
            "_________________________________________________________________\n",
            "dense_11 (Dense)             (None, 10)                1290      \n",
            "=================================================================\n",
            "Total params: 53,706\n",
            "Trainable params: 53,706\n",
            "Non-trainable params: 0\n",
            "_________________________________________________________________\n"
          ],
          "name": "stdout"
        }
      ]
    },
    {
      "cell_type": "code",
      "metadata": {
        "id": "tDA00zcfL9Qh",
        "colab_type": "code",
        "colab": {}
      },
      "source": [
        "model.compile(loss='sparse_categorical_crossentropy',optimizer='Adam', metrics = ['sparse_categorical_accuracy'] )"
      ],
      "execution_count": 95,
      "outputs": []
    },
    {
      "cell_type": "code",
      "metadata": {
        "id": "oqmX0Z8YMf-c",
        "colab_type": "code",
        "colab": {
          "base_uri": "https://localhost:8080/",
          "height": 706
        },
        "outputId": "4fddbe6c-8452-46d8-88ed-ccb7bf8b5701"
      },
      "source": [
        "model.fit(X_train,y_train, epochs=20, batch_size=60)"
      ],
      "execution_count": 96,
      "outputs": [
        {
          "output_type": "stream",
          "text": [
            "Epoch 1/20\n",
            "834/834 [==============================] - 3s 3ms/step - loss: 0.7112 - sparse_categorical_accuracy: 0.7499\n",
            "Epoch 2/20\n",
            "834/834 [==============================] - 3s 3ms/step - loss: 0.6994 - sparse_categorical_accuracy: 0.7540\n",
            "Epoch 3/20\n",
            "834/834 [==============================] - 3s 3ms/step - loss: 0.6865 - sparse_categorical_accuracy: 0.7568\n",
            "Epoch 4/20\n",
            "834/834 [==============================] - 3s 3ms/step - loss: 0.6784 - sparse_categorical_accuracy: 0.7618\n",
            "Epoch 5/20\n",
            "834/834 [==============================] - 3s 3ms/step - loss: 0.6680 - sparse_categorical_accuracy: 0.7635\n",
            "Epoch 6/20\n",
            "834/834 [==============================] - 3s 3ms/step - loss: 0.6647 - sparse_categorical_accuracy: 0.7668\n",
            "Epoch 7/20\n",
            "834/834 [==============================] - 3s 3ms/step - loss: 0.6583 - sparse_categorical_accuracy: 0.7672\n",
            "Epoch 8/20\n",
            "834/834 [==============================] - 3s 3ms/step - loss: 0.6440 - sparse_categorical_accuracy: 0.7730\n",
            "Epoch 9/20\n",
            "834/834 [==============================] - 3s 3ms/step - loss: 0.6425 - sparse_categorical_accuracy: 0.7728\n",
            "Epoch 10/20\n",
            "834/834 [==============================] - 3s 3ms/step - loss: 0.6385 - sparse_categorical_accuracy: 0.7765\n",
            "Epoch 11/20\n",
            "834/834 [==============================] - 3s 3ms/step - loss: 0.6284 - sparse_categorical_accuracy: 0.7774\n",
            "Epoch 12/20\n",
            "834/834 [==============================] - 3s 3ms/step - loss: 0.6240 - sparse_categorical_accuracy: 0.7799\n",
            "Epoch 13/20\n",
            "834/834 [==============================] - 3s 3ms/step - loss: 0.6162 - sparse_categorical_accuracy: 0.7813\n",
            "Epoch 14/20\n",
            "834/834 [==============================] - 3s 3ms/step - loss: 0.6092 - sparse_categorical_accuracy: 0.7866\n",
            "Epoch 15/20\n",
            "834/834 [==============================] - 3s 3ms/step - loss: 0.6034 - sparse_categorical_accuracy: 0.7849\n",
            "Epoch 16/20\n",
            "834/834 [==============================] - 3s 3ms/step - loss: 0.5972 - sparse_categorical_accuracy: 0.7880\n",
            "Epoch 17/20\n",
            "834/834 [==============================] - 3s 3ms/step - loss: 0.5923 - sparse_categorical_accuracy: 0.7900\n",
            "Epoch 18/20\n",
            "834/834 [==============================] - 3s 4ms/step - loss: 0.5877 - sparse_categorical_accuracy: 0.7905\n",
            "Epoch 19/20\n",
            "834/834 [==============================] - 3s 3ms/step - loss: 0.5854 - sparse_categorical_accuracy: 0.7925\n",
            "Epoch 20/20\n",
            "834/834 [==============================] - 3s 3ms/step - loss: 0.5812 - sparse_categorical_accuracy: 0.7911\n"
          ],
          "name": "stdout"
        },
        {
          "output_type": "execute_result",
          "data": {
            "text/plain": [
              "<tensorflow.python.keras.callbacks.History at 0x7f42501dab70>"
            ]
          },
          "metadata": {
            "tags": []
          },
          "execution_count": 96
        }
      ]
    },
    {
      "cell_type": "code",
      "metadata": {
        "id": "KQuRaDJQO4O1",
        "colab_type": "code",
        "colab": {
          "base_uri": "https://localhost:8080/",
          "height": 34
        },
        "outputId": "87b4c3e5-831b-437d-94ba-c9c9238a3b98"
      },
      "source": [
        "test_loss, test_accuracy = model.evaluate(X_test, y_test)"
      ],
      "execution_count": 97,
      "outputs": [
        {
          "output_type": "stream",
          "text": [
            "313/313 [==============================] - 1s 2ms/step - loss: 0.9041 - sparse_categorical_accuracy: 0.7067\n"
          ],
          "name": "stdout"
        }
      ]
    },
    {
      "cell_type": "code",
      "metadata": {
        "id": "43JhyopkPCHI",
        "colab_type": "code",
        "colab": {
          "base_uri": "https://localhost:8080/",
          "height": 34
        },
        "outputId": "404b0bd8-a086-47d4-be26-2e384543e4dd"
      },
      "source": [
        "print(test_accuracy)"
      ],
      "execution_count": 98,
      "outputs": [
        {
          "output_type": "stream",
          "text": [
            "0.7067000269889832\n"
          ],
          "name": "stdout"
        }
      ]
    }
  ]
}