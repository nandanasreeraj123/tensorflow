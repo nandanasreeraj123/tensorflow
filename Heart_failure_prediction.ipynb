{
  "nbformat": 4,
  "nbformat_minor": 0,
  "metadata": {
    "colab": {
      "name": "Heart failure prediction",
      "provenance": []
    },
    "kernelspec": {
      "name": "python3",
      "display_name": "Python 3"
    },
    "accelerator": "GPU"
  },
  "cells": [
    {
      "cell_type": "code",
      "metadata": {
        "id": "hHFbkH_rF3B3",
        "colab_type": "code",
        "colab": {}
      },
      "source": [
        ""
      ],
      "execution_count": 939,
      "outputs": []
    },
    {
      "cell_type": "code",
      "metadata": {
        "id": "GQZxHaScGhIQ",
        "colab_type": "code",
        "colab": {}
      },
      "source": [
        "import numpy as np\n",
        "import pandas as pd\n",
        "import matplotlib.pyplot as plt\n",
        "import tensorflow as tf\n",
        "import tensorflow.keras as keras"
      ],
      "execution_count": 940,
      "outputs": []
    },
    {
      "cell_type": "code",
      "metadata": {
        "id": "EmMDrNS2HNlQ",
        "colab_type": "code",
        "colab": {}
      },
      "source": [
        "df=pd.read_csv(\"/content/heart_failure_clinical_records_dataset.csv\")"
      ],
      "execution_count": 941,
      "outputs": []
    },
    {
      "cell_type": "code",
      "metadata": {
        "id": "xvIyFI4lHuPh",
        "colab_type": "code",
        "colab": {
          "base_uri": "https://localhost:8080/",
          "height": 353
        },
        "outputId": "5ed1a5c3-c6a9-443b-f6b0-c2ff7817b343"
      },
      "source": [
        "df.info()"
      ],
      "execution_count": 942,
      "outputs": [
        {
          "output_type": "stream",
          "text": [
            "<class 'pandas.core.frame.DataFrame'>\n",
            "RangeIndex: 299 entries, 0 to 298\n",
            "Data columns (total 13 columns):\n",
            " #   Column                    Non-Null Count  Dtype  \n",
            "---  ------                    --------------  -----  \n",
            " 0   age                       299 non-null    float64\n",
            " 1   anaemia                   299 non-null    int64  \n",
            " 2   creatinine_phosphokinase  299 non-null    int64  \n",
            " 3   diabetes                  299 non-null    int64  \n",
            " 4   ejection_fraction         299 non-null    int64  \n",
            " 5   high_blood_pressure       299 non-null    int64  \n",
            " 6   platelets                 299 non-null    float64\n",
            " 7   serum_creatinine          299 non-null    float64\n",
            " 8   serum_sodium              299 non-null    int64  \n",
            " 9   sex                       299 non-null    int64  \n",
            " 10  smoking                   299 non-null    int64  \n",
            " 11  time                      299 non-null    int64  \n",
            " 12  DEATH_EVENT               299 non-null    int64  \n",
            "dtypes: float64(3), int64(10)\n",
            "memory usage: 30.5 KB\n"
          ],
          "name": "stdout"
        }
      ]
    },
    {
      "cell_type": "code",
      "metadata": {
        "id": "MfZfamg-Hwl7",
        "colab_type": "code",
        "colab": {
          "base_uri": "https://localhost:8080/",
          "height": 252
        },
        "outputId": "38040fc5-a3b0-44f5-f279-c3ca687be252"
      },
      "source": [
        "df.head"
      ],
      "execution_count": 943,
      "outputs": [
        {
          "output_type": "execute_result",
          "data": {
            "text/plain": [
              "<bound method NDFrame.head of       age  anaemia  creatinine_phosphokinase  ...  smoking  time  DEATH_EVENT\n",
              "0    75.0        0                       582  ...        0     4            1\n",
              "1    55.0        0                      7861  ...        0     6            1\n",
              "2    65.0        0                       146  ...        1     7            1\n",
              "3    50.0        1                       111  ...        0     7            1\n",
              "4    65.0        1                       160  ...        0     8            1\n",
              "..    ...      ...                       ...  ...      ...   ...          ...\n",
              "294  62.0        0                        61  ...        1   270            0\n",
              "295  55.0        0                      1820  ...        0   271            0\n",
              "296  45.0        0                      2060  ...        0   278            0\n",
              "297  45.0        0                      2413  ...        1   280            0\n",
              "298  50.0        0                       196  ...        1   285            0\n",
              "\n",
              "[299 rows x 13 columns]>"
            ]
          },
          "metadata": {
            "tags": []
          },
          "execution_count": 943
        }
      ]
    },
    {
      "cell_type": "code",
      "metadata": {
        "id": "Qa3Wv3vjH4k1",
        "colab_type": "code",
        "colab": {
          "base_uri": "https://localhost:8080/",
          "height": 34
        },
        "outputId": "cdc504b7-703c-48a2-b03a-51ad219f9fc4"
      },
      "source": [
        "df.size"
      ],
      "execution_count": 944,
      "outputs": [
        {
          "output_type": "execute_result",
          "data": {
            "text/plain": [
              "3887"
            ]
          },
          "metadata": {
            "tags": []
          },
          "execution_count": 944
        }
      ]
    },
    {
      "cell_type": "code",
      "metadata": {
        "id": "N8eZVBQNH7z9",
        "colab_type": "code",
        "colab": {}
      },
      "source": [
        "x=df[['age', 'anaemia','creatinine_phosphokinase','ejection_fraction','diabetes', 'serum_creatinine', 'smoking','serum_sodium', 'time']]\n",
        "y=df['DEATH_EVENT']"
      ],
      "execution_count": 945,
      "outputs": []
    },
    {
      "cell_type": "code",
      "metadata": {
        "id": "Vg7TmuBPJ0md",
        "colab_type": "code",
        "colab": {}
      },
      "source": [
        "\n",
        "from sklearn.model_selection import train_test_split\n",
        "x_train,x_test,y_train,y_test=train_test_split(x,y,test_size=0.15)"
      ],
      "execution_count": 946,
      "outputs": []
    },
    {
      "cell_type": "code",
      "metadata": {
        "id": "Zk80JQ3cNgf0",
        "colab_type": "code",
        "colab": {
          "base_uri": "https://localhost:8080/",
          "height": 34
        },
        "outputId": "242c0026-4df7-425e-a620-2dd9152fa1c1"
      },
      "source": [
        "x_train.shape"
      ],
      "execution_count": 947,
      "outputs": [
        {
          "output_type": "execute_result",
          "data": {
            "text/plain": [
              "(254, 9)"
            ]
          },
          "metadata": {
            "tags": []
          },
          "execution_count": 947
        }
      ]
    },
    {
      "cell_type": "code",
      "metadata": {
        "id": "wsEFFHx3No-n",
        "colab_type": "code",
        "colab": {}
      },
      "source": [
        "model = keras.models.Sequential()"
      ],
      "execution_count": 948,
      "outputs": []
    },
    {
      "cell_type": "code",
      "metadata": {
        "id": "v5_mx1kpNxxG",
        "colab_type": "code",
        "colab": {}
      },
      "source": [
        "model.add(keras.layers.Dense(units=128,activation='relu',input_shape=x_train.shape))"
      ],
      "execution_count": 949,
      "outputs": []
    },
    {
      "cell_type": "code",
      "metadata": {
        "id": "D-3kDctlOZqh",
        "colab_type": "code",
        "colab": {}
      },
      "source": [
        "model.add(keras.layers.Dropout(0.2))"
      ],
      "execution_count": 950,
      "outputs": []
    },
    {
      "cell_type": "code",
      "metadata": {
        "id": "ngTIWaQ7PxRp",
        "colab_type": "code",
        "colab": {}
      },
      "source": [
        "model.add(keras.layers.Dense(units=128,activation='relu'))"
      ],
      "execution_count": 951,
      "outputs": []
    },
    {
      "cell_type": "code",
      "metadata": {
        "id": "Khyl9G4RP4tu",
        "colab_type": "code",
        "colab": {}
      },
      "source": [
        "model.add(keras.layers.Dropout(0.2))"
      ],
      "execution_count": 952,
      "outputs": []
    },
    {
      "cell_type": "code",
      "metadata": {
        "id": "k3uXV9PnP6Hc",
        "colab_type": "code",
        "colab": {}
      },
      "source": [
        "model.add(keras.layers.Dense(units=128,activation='relu'))"
      ],
      "execution_count": 953,
      "outputs": []
    },
    {
      "cell_type": "code",
      "metadata": {
        "id": "5APiGKZOQQ4h",
        "colab_type": "code",
        "colab": {}
      },
      "source": [
        "model.add(keras.layers.Dropout(0.2))"
      ],
      "execution_count": 954,
      "outputs": []
    },
    {
      "cell_type": "code",
      "metadata": {
        "id": "xS-o21ByQUw_",
        "colab_type": "code",
        "colab": {}
      },
      "source": [
        "model.add(keras.layers.Dense(units=1,activation='softmax'))"
      ],
      "execution_count": 955,
      "outputs": []
    },
    {
      "cell_type": "code",
      "metadata": {
        "id": "Tu4gBBGLQ_Lx",
        "colab_type": "code",
        "colab": {
          "base_uri": "https://localhost:8080/",
          "height": 386
        },
        "outputId": "b7c451c9-0e8a-422b-c28b-76b489362735"
      },
      "source": [
        "model.summary()"
      ],
      "execution_count": 956,
      "outputs": [
        {
          "output_type": "stream",
          "text": [
            "Model: \"sequential_48\"\n",
            "_________________________________________________________________\n",
            "Layer (type)                 Output Shape              Param #   \n",
            "=================================================================\n",
            "dense_186 (Dense)            (None, 254, 128)          1280      \n",
            "_________________________________________________________________\n",
            "dropout_140 (Dropout)        (None, 254, 128)          0         \n",
            "_________________________________________________________________\n",
            "dense_187 (Dense)            (None, 254, 128)          16512     \n",
            "_________________________________________________________________\n",
            "dropout_141 (Dropout)        (None, 254, 128)          0         \n",
            "_________________________________________________________________\n",
            "dense_188 (Dense)            (None, 254, 128)          16512     \n",
            "_________________________________________________________________\n",
            "dropout_142 (Dropout)        (None, 254, 128)          0         \n",
            "_________________________________________________________________\n",
            "dense_189 (Dense)            (None, 254, 1)            129       \n",
            "=================================================================\n",
            "Total params: 34,433\n",
            "Trainable params: 34,433\n",
            "Non-trainable params: 0\n",
            "_________________________________________________________________\n"
          ],
          "name": "stdout"
        }
      ]
    },
    {
      "cell_type": "code",
      "metadata": {
        "id": "csIepk1aQbpi",
        "colab_type": "code",
        "colab": {}
      },
      "source": [
        "from keras.optimizers import Adam\n",
        "op = Adam(lr=0.005)\n",
        "model.compile(optimizer = op, loss = 'mse')"
      ],
      "execution_count": 957,
      "outputs": []
    },
    {
      "cell_type": "code",
      "metadata": {
        "id": "5Rndsg9yROdA",
        "colab_type": "code",
        "colab": {
          "base_uri": "https://localhost:8080/",
          "height": 759
        },
        "outputId": "8af2d8b3-b35e-4c44-e1c9-d5da4992191f"
      },
      "source": [
        "model.fit(x_train,y_train, epochs=20, batch_size=70)\n"
      ],
      "execution_count": 958,
      "outputs": [
        {
          "output_type": "stream",
          "text": [
            "Epoch 1/20\n",
            "WARNING:tensorflow:Model was constructed with shape (None, 254, 9) for input Tensor(\"dense_186_input:0\", shape=(None, 254, 9), dtype=float32), but it was called on an input with incompatible shape (None, 9).\n",
            "WARNING:tensorflow:Model was constructed with shape (None, 254, 9) for input Tensor(\"dense_186_input:0\", shape=(None, 254, 9), dtype=float32), but it was called on an input with incompatible shape (None, 9).\n",
            "4/4 [==============================] - 0s 3ms/step - loss: 0.6614\n",
            "Epoch 2/20\n",
            "4/4 [==============================] - 0s 3ms/step - loss: 0.6614\n",
            "Epoch 3/20\n",
            "4/4 [==============================] - 0s 3ms/step - loss: 0.6614\n",
            "Epoch 4/20\n",
            "4/4 [==============================] - 0s 3ms/step - loss: 0.6614\n",
            "Epoch 5/20\n",
            "4/4 [==============================] - 0s 3ms/step - loss: 0.6614\n",
            "Epoch 6/20\n",
            "4/4 [==============================] - 0s 3ms/step - loss: 0.6614\n",
            "Epoch 7/20\n",
            "4/4 [==============================] - 0s 3ms/step - loss: 0.6614\n",
            "Epoch 8/20\n",
            "4/4 [==============================] - 0s 3ms/step - loss: 0.6614\n",
            "Epoch 9/20\n",
            "4/4 [==============================] - 0s 3ms/step - loss: 0.6614\n",
            "Epoch 10/20\n",
            "4/4 [==============================] - 0s 3ms/step - loss: 0.6614\n",
            "Epoch 11/20\n",
            "4/4 [==============================] - 0s 3ms/step - loss: 0.6614\n",
            "Epoch 12/20\n",
            "4/4 [==============================] - 0s 3ms/step - loss: 0.6614\n",
            "Epoch 13/20\n",
            "4/4 [==============================] - 0s 3ms/step - loss: 0.6614\n",
            "Epoch 14/20\n",
            "4/4 [==============================] - 0s 3ms/step - loss: 0.6614\n",
            "Epoch 15/20\n",
            "4/4 [==============================] - 0s 3ms/step - loss: 0.6614\n",
            "Epoch 16/20\n",
            "4/4 [==============================] - 0s 3ms/step - loss: 0.6614\n",
            "Epoch 17/20\n",
            "4/4 [==============================] - 0s 3ms/step - loss: 0.6614\n",
            "Epoch 18/20\n",
            "4/4 [==============================] - 0s 3ms/step - loss: 0.6614\n",
            "Epoch 19/20\n",
            "4/4 [==============================] - 0s 3ms/step - loss: 0.6614\n",
            "Epoch 20/20\n",
            "4/4 [==============================] - 0s 3ms/step - loss: 0.6614\n"
          ],
          "name": "stdout"
        },
        {
          "output_type": "execute_result",
          "data": {
            "text/plain": [
              "<tensorflow.python.keras.callbacks.History at 0x7f7fbf7a72e8>"
            ]
          },
          "metadata": {
            "tags": []
          },
          "execution_count": 958
        }
      ]
    },
    {
      "cell_type": "code",
      "metadata": {
        "id": "jPsx9rQfavNf",
        "colab_type": "code",
        "colab": {
          "base_uri": "https://localhost:8080/",
          "height": 87
        },
        "outputId": "82aeb1c6-d06e-45b2-a4de-efb3d3874ee7"
      },
      "source": [
        " test_accuracy = model.evaluate(x_test, y_test)\n"
      ],
      "execution_count": 959,
      "outputs": [
        {
          "output_type": "stream",
          "text": [
            "WARNING:tensorflow:Model was constructed with shape (None, 254, 9) for input Tensor(\"dense_186_input:0\", shape=(None, 254, 9), dtype=float32), but it was called on an input with incompatible shape (None, 9).\n",
            "WARNING:tensorflow:6 out of the last 11 calls to <function Model.make_test_function.<locals>.test_function at 0x7f7fbf749268> triggered tf.function retracing. Tracing is expensive and the excessive number of tracings could be due to (1) creating @tf.function repeatedly in a loop, (2) passing tensors with different shapes, (3) passing Python objects instead of tensors. For (1), please define your @tf.function outside of the loop. For (2), @tf.function has experimental_relax_shapes=True option that relaxes argument shapes that can avoid unnecessary retracing. For (3), please refer to https://www.tensorflow.org/tutorials/customization/performance#python_or_tensor_args and https://www.tensorflow.org/api_docs/python/tf/function for  more details.\n",
            "2/2 [==============================] - 0s 4ms/step - loss: 0.7778\n"
          ],
          "name": "stdout"
        }
      ]
    },
    {
      "cell_type": "code",
      "metadata": {
        "id": "hihZPXfTbRpq",
        "colab_type": "code",
        "colab": {
          "base_uri": "https://localhost:8080/",
          "height": 34
        },
        "outputId": "c465da98-7eed-4455-f380-0c3225e7750b"
      },
      "source": [
        "test_accuracy"
      ],
      "execution_count": 960,
      "outputs": [
        {
          "output_type": "execute_result",
          "data": {
            "text/plain": [
              "0.7777777910232544"
            ]
          },
          "metadata": {
            "tags": []
          },
          "execution_count": 960
        }
      ]
    }
  ]
}